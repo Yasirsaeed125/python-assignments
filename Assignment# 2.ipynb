{
 "cells": [
  {
   "cell_type": "code",
   "execution_count": 1,
   "metadata": {},
   "outputs": [
    {
     "name": "stdout",
     "output_type": "stream",
     "text": [
      "Intermediate Board Karachi\n",
      "Candidate Name : Yasir Saeed\n",
      "Candidate roll no : 31256\n",
      "Candidate Name : Yasir Saeed\n",
      "Candidate Roll No : 31256\n",
      "Enter Your Maths Marks :70\n",
      "Enter Your Physics Marks :80\n",
      "Enter Your Chemistry Marks :90\n",
      "Enter Your Computer Marks :55\n",
      "Enter Your Islamiat Marks :65\n",
      "Obtained Marks : 360\n",
      "Totall Marks : 500\n",
      "Percentage :  72.0 %\n",
      "Grade: A\n"
     ]
    }
   ],
   "source": [
    "print(\"Intermediate Board Karachi\")\n",
    "Candidate_name = input(\"Candidate Name : \")\n",
    "Candidate_roll_no = input(\"Candidate roll no : \")\n",
    "print(\"Candidate Name :\", Candidate_name)\n",
    "print(\"Candidate Roll No :\", Candidate_roll_no)\n",
    "Maths = int(input(\"Enter Your Maths Marks :\"))\n",
    "Physics = int(input(\"Enter Your Physics Marks :\"))\n",
    "Chemistry = int(input(\"Enter Your Chemistry Marks :\"))\n",
    "Computer_science =int (input(\"Enter Your Computer Marks :\"))\n",
    "Islamiat = int (input(\"Enter Your Islamiat Marks :\"))\n",
    "Ob_Marks = (Maths+ Physics + Chemistry + Computer_science + Islamiat)\n",
    "Totall_Marks = (Ob_Marks * 100) / 500\n",
    "print(\"Obtained Marks :\", Ob_Marks)\n",
    "print(\"Totall Marks :\", 500)\n",
    "print(\"Percentage : \", Totall_Marks , \"%\")\n",
    "if Totall_Marks > 80 < 90 :\n",
    "    print(\"Grade: A+\")\n",
    "elif Totall_Marks > 70 < 80 :\n",
    "    print(\"Grade: A\")\n",
    "elif Totall_Marks > 60 < 70 :\n",
    "    print(\"Grade: B\")\n",
    "elif Totall_Marks > 50 < 60 :\n",
    "    print(\"Grade: C\")\n",
    "elif Totall_Marks > 40 <50 :\n",
    "    print(\"Grade: D\")\n",
    "else :\n",
    "    print(\"Fail\")"
   ]
  },
  {
   "cell_type": "code",
   "execution_count": 3,
   "metadata": {},
   "outputs": [
    {
     "name": "stdout",
     "output_type": "stream",
     "text": [
      "Enter a Number : 32\n",
      "Provided number is even\n"
     ]
    }
   ],
   "source": [
    "User_input = float (input(\"Enter a Number : \"))\n",
    "if((User_input%2) == 0 ) :\n",
    "    print(\"Provided number is even\")\n",
    "else :\n",
    "    print(\"Provided number is Odd\")"
   ]
  },
  {
   "cell_type": "code",
   "execution_count": 4,
   "metadata": {},
   "outputs": [
    {
     "name": "stdout",
     "output_type": "stream",
     "text": [
      "The Length of List is :  14\n"
     ]
    }
   ],
   "source": [
    "a = [1 ,5 ,6 , 8, 9 , 4 ,18 ,17 ,20, 50, 70 ,55, 56 ,57]\n",
    "print(\"The Length of List is : \",(len(a)))"
   ]
  },
  {
   "cell_type": "code",
   "execution_count": 6,
   "metadata": {},
   "outputs": [
    {
     "name": "stdout",
     "output_type": "stream",
     "text": [
      "Sum Of All Number is :  61\n"
     ]
    }
   ],
   "source": [
    "list1 = [1, 2, 3, 5, 6 ,7 ,8 ,9 , 20]\n",
    "totall = sum(list1)\n",
    "print(\"Sum Of All Number is : \", totall)"
   ]
  },
  {
   "cell_type": "code",
   "execution_count": 7,
   "metadata": {},
   "outputs": [
    {
     "name": "stdout",
     "output_type": "stream",
     "text": [
      "Largest Number From a List is : 50\n"
     ]
    }
   ],
   "source": [
    "list1 = [1,5,6,8,9,10,5,15,20,50]\n",
    "print(\"Largest Number From a List is :\" ,max(list1))"
   ]
  },
  {
   "cell_type": "code",
   "execution_count": 9,
   "metadata": {},
   "outputs": [
    {
     "name": "stdout",
     "output_type": "stream",
     "text": [
      "Elements of the list that are less than 5 : [0, 1, 2, 3, 4]\n"
     ]
    }
   ],
   "source": [
    "list1 = [0, 1, 2, 3, 4, 5, 7, 13, 20, 34, 55, 70]\n",
    "emptylist = []\n",
    "for number in list1:\n",
    "    if number < 5 :\n",
    "        emptylist.append(number)\n",
    "\n",
    "print(\"Elements of the list that are less than 5 :\",emptylist)"
   ]
  },
  {
   "cell_type": "code",
   "execution_count": null,
   "metadata": {},
   "outputs": [],
   "source": []
  }
 ],
 "metadata": {
  "kernelspec": {
   "display_name": "Python 3",
   "language": "python",
   "name": "python3"
  },
  "language_info": {
   "codemirror_mode": {
    "name": "ipython",
    "version": 3
   },
   "file_extension": ".py",
   "mimetype": "text/x-python",
   "name": "python",
   "nbconvert_exporter": "python",
   "pygments_lexer": "ipython3",
   "version": "3.7.4"
  }
 },
 "nbformat": 4,
 "nbformat_minor": 2
}
