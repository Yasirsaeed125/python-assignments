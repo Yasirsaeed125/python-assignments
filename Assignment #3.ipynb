{
 "cells": [
  {
   "cell_type": "code",
   "execution_count": 2,
   "metadata": {},
   "outputs": [
    {
     "name": "stdout",
     "output_type": "stream",
     "text": [
      "Enter First Value : 123\n",
      "Enter Second value : 321\n",
      "Which operation do you want to perform\n",
      "1. Add\n",
      "2. Subtract\n",
      "3. Multiply\n",
      "4. Divide\n",
      "5. Power\n",
      "5\n",
      "Answer is =  72367033806371673149109894141163778628811792657571658906010558390395870363798401744095280686155507736404921657070284961721828960592977909542637098897697223102622628566787654091327825453991595140205701412961364188732408936197890553699715836951569999800431957769217006743321026257517932764164662319487914962533302741368207211189494615326552790667720411285474162636765168907211924134973374304496019635376665858559941735703924836467756917247995469583487467791524582153744522107597865277798136080074161485280424274076931083994487111719562249702540362855712911132265966235754355353516703339043001506118520760359577737869472018617942120590873170710805078696371738906375721785723\n"
     ]
    }
   ],
   "source": [
    "first_no = int (input(\"Enter First Value : \"))\n",
    "second_no = int (input(\"Enter Second value : \"))\n",
    "Operation = int(input(\"Which operation do you want to perform\\n1. Add\\n2. Subtract\\n3. Multiply\\n4. Divide\\n5. Power\\n\"))\n",
    "Answer = \"Answer is = \"\n",
    "if Operation == 1 :\n",
    "    print(Answer ,first_no+second_no)\n",
    "elif Operation == 2 :\n",
    "    print(Answer, first_no-second_no)\n",
    "elif Operation == 3 :\n",
    "    print(Answer, first_no*second_no)\n",
    "elif Operation == 4 :\n",
    "    print(Answer, first_no/second_no)\n",
    "elif Operation == 5:\n",
    "    print(Answer, first_no ** second_no)\n",
    "else:\n",
    "    print(\"Wrong\")"
   ]
  },
  {
   "cell_type": "code",
   "execution_count": 3,
   "metadata": {},
   "outputs": [
    {
     "name": "stdout",
     "output_type": "stream",
     "text": [
      "50 is a numeric Value in List\n",
      "10 is a numeric Value in List\n",
      "15.5 is a numeric Value in List\n"
     ]
    }
   ],
   "source": [
    "check = [\"YASIR\",\"saEED\",50,10,True,15.5,\"x\",\"b\"]\n",
    "for x in check:\n",
    "    if type(x) == int:\n",
    "        print(x,\"is a numeric Value in List\")\n",
    "    elif type(x) == float:\n",
    "        print(x,\"is a numeric Value in List\")"
   ]
  },
  {
   "cell_type": "code",
   "execution_count": 4,
   "metadata": {},
   "outputs": [
    {
     "name": "stdout",
     "output_type": "stream",
     "text": [
      "Enter Key : APPLE\n",
      "Enter Value : 89\n",
      "{'89', 'APPLE'}\n"
     ]
    }
   ],
   "source": [
    "dic = {}\n",
    "keyinput = input(\"Enter Key : \")\n",
    "valueinput = input(\"Enter Value : \")\n",
    "dic = {keyinput,valueinput}\n",
    "\n",
    "print(dic)\n"
   ]
  },
  {
   "cell_type": "code",
   "execution_count": 6,
   "metadata": {},
   "outputs": [
    {
     "name": "stdout",
     "output_type": "stream",
     "text": [
      "Sum of all numeric items in a dictionary is :  128\n"
     ]
    }
   ],
   "source": [
    "dic = {\"num1\" : 30,\"num2\" : 50,\"string\":\"Name\",\"char\" :\"a\",\"num3\" : 15,\"num4\":16,\"num5\":17}\n",
    "sum = 0\n",
    "\n",
    "for i in dic.values():\n",
    "    if type(i) == int:\n",
    "        sum +=i\n",
    "\n",
    "print(\"Sum of all numeric items in a dictionary is : \" , sum)"
   ]
  },
  {
   "cell_type": "code",
   "execution_count": 8,
   "metadata": {},
   "outputs": [
    {
     "name": "stdout",
     "output_type": "stream",
     "text": [
      "Repeted item in a list is :  [1, 2, 3, 5, 6, 9]\n"
     ]
    }
   ],
   "source": [
    "arr = [1,2,3,2,1,5,6,5,5,5,2,6,7,8,9,9,10,5,3,6,5,6,2]\n",
    "list_range = len(arr)\n",
    "repeated = []\n",
    "for i in range (list_range):\n",
    "    a = i + 1\n",
    "    for b in range(a, list_range):\n",
    "        if arr[i] == arr[b] and arr[i] not in repeated:\n",
    "            repeated.append(arr[i])\n",
    "print(\"Repeted item in a list is : \" , repeated)"
   ]
  },
  {
   "cell_type": "code",
   "execution_count": 12,
   "metadata": {},
   "outputs": [
    {
     "name": "stdout",
     "output_type": "stream",
     "text": [
      "Enter Key Name Check if exist or not : num1\n",
      "Given Key exist : \n"
     ]
    }
   ],
   "source": [
    "dic = {\"num1\" : 12,\"num2\" : 5,\"string\":\"YASIR\",\"char\":\"a\",\"num3\" : 6,\"num4\":50}\n",
    "check_key = input(\"Enter Key Name Check if exist or not : \")\n",
    "flag = False\n",
    "for i in dic.keys():\n",
    "    if i == check_key:\n",
    "        flag = True\n",
    "        break\n",
    "\n",
    "if flag:\n",
    "    print(\"Given Key exist : \")\n",
    "else:\n",
    "    print(\"Given Key dose not exist \")"
   ]
  },
  {
   "cell_type": "code",
   "execution_count": null,
   "metadata": {},
   "outputs": [],
   "source": []
  }
 ],
 "metadata": {
  "kernelspec": {
   "display_name": "Python 3",
   "language": "python",
   "name": "python3"
  },
  "language_info": {
   "codemirror_mode": {
    "name": "ipython",
    "version": 3
   },
   "file_extension": ".py",
   "mimetype": "text/x-python",
   "name": "python",
   "nbconvert_exporter": "python",
   "pygments_lexer": "ipython3",
   "version": "3.7.4"
  }
 },
 "nbformat": 4,
 "nbformat_minor": 2
}
